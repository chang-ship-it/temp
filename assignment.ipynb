{
  "cells": [
    {
      "cell_type": "markdown",
      "id": "3c9f9a34-7961-4124-98a4-ed15c6dcb2fb",
      "metadata": {},
      "outputs": [],
      "source": [
        "<p style=\"text-align:center\">\n",
        "    <a href=\"https://skills.network/?utm_medium=Exinfluencer&utm_source=Exinfluencer&utm_content=000026UJ&utm_term=10006555&utm_id=NA-SkillsNetwork-Channel-SkillsNetworkCoursesIBMDeveloperSkillsNetworkST0151ENSkillsNetwork20531532-2022-01-01\" target=\"_blank\">\n",
        "    <img src=\"https://cf-courses-data.s3.us.cloud-object-storage.appdomain.cloud/assets/logos/SN_web_lightmode.png\" width=\"200\" alt=\"Skills Network Logo\"  />\n",
        "    </a>\n",
        "</p>\n",
        "\n"
      ]
    },
    {
      "cell_type": "markdown",
      "id": "4e6328be-eb21-4589-8a2f-b3cd14dfdd3c",
      "metadata": {},
      "outputs": [],
      "source": [
        "#### Import the required libraries we need for the lab.\n"
      ]
    },
    {
      "cell_type": "code",
      "id": "f61e8a79-1011-4497-bbf0-3961e22bf5c4",
      "metadata": {},
      "outputs": [],
      "source": [
        "import piplite\nawait piplite.install(['numpy'],['pandas'])\nawait piplite.install(['seaborn'])"
      ]
    },
    {
      "cell_type": "code",
      "id": "24f7fe41-48ec-417a-b435-75c73706b42c",
      "metadata": {},
      "outputs": [],
      "source": [
        "import pandas as pd\nimport pandas as pd\nimport seaborn as sns\nimport matplotlib.pyplot as pyplot\nimport scipy.stats\nimport statsmodels.api as sm\nfrom statsmodels.formula.api import ols"
      ]
    },
    {
      "cell_type": "markdown",
      "id": "e68c800f-89d4-446e-a874-9e379d2532b9",
      "metadata": {},
      "outputs": [],
      "source": [
        "#### Read the dataset in the csv file from the URL\n"
      ]
    },
    {
      "cell_type": "code",
      "id": "420b17b9-e012-4b57-8e45-bee3d45a8f01",
      "metadata": {},
      "outputs": [],
      "source": [
        "from js import fetch\nimport io\n\nURL = 'https://cf-courses-data.s3.us.cloud-object-storage.appdomain.cloud/IBMDeveloperSkillsNetwork-ST0151EN-SkillsNetwork/labs/boston_housing.csv'\nresp = await fetch(URL)\nboston_url = io.BytesIO((await resp.arrayBuffer()).to_py())"
      ]
    },
    {
      "cell_type": "code",
      "id": "983e2552-3a12-4308-a6c6-b2ba71fcbf92",
      "metadata": {},
      "outputs": [],
      "source": [
        "boston_df=pd.read_csv(boston_url)"
      ]
    },
    {
      "cell_type": "markdown",
      "id": "521bbdf5-b265-4e32-81bf-22b44065a273",
      "metadata": {},
      "outputs": [],
      "source": [
        "#### Add your code below following the instructions given in the course to complete the peer graded assignment\n"
      ]
    },
    {
      "cell_type": "code",
      "id": "e7a4ef85-ce06-4303-8cf2-94f299b54b20",
      "metadata": {},
      "outputs": [],
      "source": [
        ""
      ]
    }
  ],
  "metadata": {
    "language_info": {
      "codemirror_mode": {
        "name": "python",
        "version": 3
      },
      "file_extension": ".py",
      "mimetype": "text/x-python",
      "name": "python",
      "nbconvert_exporter": "python",
      "pygments_lexer": "ipython3",
      "version": "3.8"
    },
    "kernelspec": {
      "name": "python",
      "display_name": "Pyolite",
      "language": "python"
    }
  },
  "nbformat": 4,
  "nbformat_minor": 4
}